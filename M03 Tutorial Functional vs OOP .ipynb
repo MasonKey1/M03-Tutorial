{
 "cells": [
  {
   "cell_type": "code",
   "execution_count": 1,
   "id": "f3136a4d",
   "metadata": {},
   "outputs": [],
   "source": [
    "def add(x, y):\n",
    "    return x + y\n",
    "\n",
    "def subtract(x, y):\n",
    "    return x - y"
   ]
  },
  {
   "cell_type": "code",
   "execution_count": 2,
   "id": "5b6c02e0",
   "metadata": {},
   "outputs": [],
   "source": [
    "class do_math:\n",
    "    def _innit_(self, val1, val2):\n",
    "        self.val1 = val1\n",
    "        self.val2 = val2\n",
    "    \n",
    "    def add(self):\n",
    "        return self.val1 + self.val2\n",
    "    def subtract(self):\n",
    "        return self.val1 - self.val2"
   ]
  },
  {
   "cell_type": "code",
   "execution_count": null,
   "id": "67be238f",
   "metadata": {},
   "outputs": [],
   "source": []
  }
 ],
 "metadata": {
  "kernelspec": {
   "display_name": "Python 3 (ipykernel)",
   "language": "python",
   "name": "python3"
  },
  "language_info": {
   "codemirror_mode": {
    "name": "ipython",
    "version": 3
   },
   "file_extension": ".py",
   "mimetype": "text/x-python",
   "name": "python",
   "nbconvert_exporter": "python",
   "pygments_lexer": "ipython3",
   "version": "3.10.9"
  }
 },
 "nbformat": 4,
 "nbformat_minor": 5
}
